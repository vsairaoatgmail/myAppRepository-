{
  "nbformat": 4,
  "nbformat_minor": 0,
  "metadata": {
    "colab": {
      "name": "pandas_weather.ipynb",
      "provenance": [],
      "collapsed_sections": [],
      "include_colab_link": true
    },
    "kernelspec": {
      "name": "python3",
      "display_name": "Python 3"
    }
  },
  "cells": [
    {
      "cell_type": "markdown",
      "metadata": {
        "id": "view-in-github",
        "colab_type": "text"
      },
      "source": [
        "<a href=\"https://colab.research.google.com/github/vsairaoatgmail/myAppRepository-/blob/master/pandas_weather.ipynb\" target=\"_parent\"><img src=\"https://colab.research.google.com/assets/colab-badge.svg\" alt=\"Open In Colab\"/></a>"
      ]
    },
    {
      "cell_type": "code",
      "metadata": {
        "id": "9FHdkpVxmGPp",
        "colab_type": "code",
        "colab": {}
      },
      "source": [
        "import numpy as np\n",
        "import pandas as pd\n",
        "\n",
        "\n",
        "def header(msg):\n",
        "  print('-'*100)\n",
        "  print('[ ' + msg + ' ]')\n",
        "  print('-'*100)\n",
        "  "
      ],
      "execution_count": 0,
      "outputs": []
    },
    {
      "cell_type": "code",
      "metadata": {
        "id": "bO0ZUnk2yMvs",
        "colab_type": "code",
        "colab": {}
      },
      "source": [
        "header(\"create Data Frame with hardcoded data\")\n",
        "df = pd.DataFrame(\n",
        "\t[['Jan',58,42,74,22,2.95],\n",
        "\t['Feb',61,45,78,26,3.02],\n",
        "\t['Mar',65,48,84,25,2.34],\n",
        "\t['Apr',67,50,92,28,1.02],\n",
        "\t['May',71,53,98,35,0.48],\n",
        "\t['Jun',75,56,107,41,0.11],\n",
        "\t['Jul',77,58,105,44,0.0],\n",
        "\t['Aug',77,59,102,43,0.03],\n",
        "\t['Sep',77,57,103,40,0.17],\n",
        "\t['Oct',73,54,96,34,0.81],\n",
        "\t['Nov',64,48,84,30,1.7],\n",
        "\t['Dec',58,42,73,21,2.56]],\n",
        "\tindex = [0,1,2,3,4,5,6,7,8,9,10,11],\n",
        "\tcolumns = ['month','avg_high','avg_low','record_high','record_low','avg_precipitation'])\n",
        "print(df)\n",
        "\n",
        "\n",
        "header(\"df-shape() - tells number of rows & columns\")\n",
        "df.shape"
      ],
      "execution_count": 0,
      "outputs": []
    },
    {
      "cell_type": "markdown",
      "metadata": {
        "id": "wPBkaNJTQpja",
        "colab_type": "text"
      },
      "source": [
        ""
      ]
    },
    {
      "cell_type": "code",
      "metadata": {
        "id": "U6O3HKWNsmGt",
        "colab_type": "code",
        "colab": {}
      },
      "source": [
        "header(\" df.describe() - display stats of the Data Frame - mean, std, min, max, % of distribution\")\n",
        "df.describe()"
      ],
      "execution_count": 0,
      "outputs": []
    },
    {
      "cell_type": "code",
      "metadata": {
        "id": "CZRwKTxztZCK",
        "colab_type": "code",
        "colab": {}
      },
      "source": [
        "header(\"df.values() - display values of data frame\")\n",
        "df.values"
      ],
      "execution_count": 0,
      "outputs": []
    },
    {
      "cell_type": "code",
      "metadata": {
        "id": "AWvGdLZK9XdG",
        "colab_type": "code",
        "colab": {}
      },
      "source": [
        "header(\" df.count() - gives count of non-null values of each column\")\n",
        "df.count()\n"
      ],
      "execution_count": 0,
      "outputs": []
    },
    {
      "cell_type": "code",
      "metadata": {
        "id": "YfQw5_ZIznYr",
        "colab_type": "code",
        "colab": {}
      },
      "source": [
        "header(\" df.min() - min values of each column\")\n",
        "df.min()   \n",
        "\n"
      ],
      "execution_count": 0,
      "outputs": []
    },
    {
      "cell_type": "code",
      "metadata": {
        "id": "gA-dg-Kw14sK",
        "colab_type": "code",
        "colab": {}
      },
      "source": [
        "header(\" df.min() - max values of each column\")\n",
        "df.max()   \n"
      ],
      "execution_count": 0,
      "outputs": []
    },
    {
      "cell_type": "code",
      "metadata": {
        "id": "2NvST4ur17JJ",
        "colab_type": "code",
        "colab": {}
      },
      "source": [
        "header(\" df.std() - standard diviation values of each column\")\n",
        "df.std()\n"
      ],
      "execution_count": 0,
      "outputs": []
    },
    {
      "cell_type": "code",
      "metadata": {
        "id": "Dmceu6qI2AAq",
        "colab_type": "code",
        "colab": {}
      },
      "source": [
        "header(\" df.median() - median values of each column\")\n",
        "df.median()   \n"
      ],
      "execution_count": 0,
      "outputs": []
    },
    {
      "cell_type": "code",
      "metadata": {
        "id": "y2F45x3G2Byv",
        "colab_type": "code",
        "colab": {}
      },
      "source": [
        "header(\" df.mean() - mean values of each column\")\n",
        "df.mean()   \n"
      ],
      "execution_count": 0,
      "outputs": []
    },
    {
      "cell_type": "code",
      "metadata": {
        "id": "1lcKr4WE2DWo",
        "colab_type": "code",
        "colab": {}
      },
      "source": [
        "header(\" df.corr() - correlation values of each column\")\n",
        "df.corr()   "
      ],
      "execution_count": 0,
      "outputs": []
    }
  ]
}